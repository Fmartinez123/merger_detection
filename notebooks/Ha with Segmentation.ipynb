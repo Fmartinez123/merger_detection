{
 "cells": [
  {
   "cell_type": "code",
   "execution_count": 4,
   "metadata": {},
   "outputs": [],
   "source": [
    "import numpy as np\n",
    "import matplotlib.pyplot as plt\n",
    "from matplotlib.gridspec import GridSpec\n",
    "from astropy.io import fits\n",
    "from astropy import wcs\n",
    "from astropy.table import Table\n",
    "from matplotlib.gridspec import GridSpec\n",
    "import pandas as pd\n",
    "from pandas import DataFrame\n",
    "from astropy.cosmology import Planck15 as cosmo\n",
    "import astropy.units as u\n",
    "import ast\n",
    "from astropy.visualization import quantity_support\n",
    "\n",
    "%matplotlib inline"
   ]
  },
  {
   "cell_type": "code",
   "execution_count": 8,
   "metadata": {},
   "outputs": [],
   "source": [
    "table_path = '../tables/'\n",
    "cat_path = '../CANDLES_data/goods_catalogs/'\n",
    "total_path = '../total_gal/'\n",
    "cutout_path = '../CANDLES_data/total_cutouts/'\n",
    "save_cutout_path = '../CANDLES_data/merger_cutouts/'\n",
    "seg_path = '../CANDLES_data/goodsn_3dhst_v4.0_f160w/'\n",
    "Ha_path = '../merger_candidates/'"
   ]
  },
  {
   "cell_type": "code",
   "execution_count": 9,
   "metadata": {},
   "outputs": [],
   "source": [
    "def Scaling_factor(X, m, M):              #X = Counts, m = Vmin, M = Vmax\n",
    "    m_mask = np.zeros_like(X)\n",
    "    M_mask = np.zeros_like(X)\n",
    "\n",
    "    for i in range(len(X)):\n",
    "        for ii in range(len(X[0])):\n",
    "            if X[i][ii] <= m:\n",
    "                m_mask[i][ii] = 1 \n",
    "            \n",
    "            if X[i][ii] >= M:\n",
    "                M_mask[i][ii] = 1 \n",
    "             \n",
    "    scl_img =  np.arcsinh(X - m)/np.arcsinh(M - m)\n",
    "            \n",
    "    for i in range(len(X)):\n",
    "        for ii in range(len(X[0])):\n",
    "            if m_mask[i][ii] == 1:\n",
    "                scl_img[i][ii] = 0\n",
    "            if M_mask[i][ii] == 1:\n",
    "                scl_img[i][ii] = 1\n",
    "            \n",
    "    return scl_img"
   ]
  },
  {
   "cell_type": "markdown",
   "metadata": {},
   "source": [
    "Attempting to incorporate segmentation maps"
   ]
  },
  {
   "cell_type": "code",
   "execution_count": 24,
   "metadata": {},
   "outputs": [],
   "source": [
    "seg_N = fits.open(seg_path+'goodsn_3dhst.v4.0.F160W_seg.fits')[0].data\n",
    "\n",
    "field = 'GN1'\n",
    "Subjects = [37102,37836,37193,37636,36420,36795,37271,37738,37957,36514,36808,37343,37750,37363,\n",
    "            37786,37996,36928,37395,37787,38027,36651,37406,38041,36717,37006,37424,37807,37067,\n",
    "            37810,36736,37074,37615,37821]\n",
    "\n",
    "rows = []\n",
    "cols = []\n",
    "Img_Ha = []\n",
    "Img_Orig = []\n",
    "\n",
    "#Opening the Fits Files for every ID\n",
    "for i in Subjects:\n",
    "    Ha = fits.open(Ha_path+'{}/{}_{}.full.fits'.format(field,field,i))\n",
    "    Line = Ha['Line','Ha'].data      #Halpha data\n",
    "    Continuum = Ha['Continuum','Ha'].data\n",
    "    Contam = Ha['Contam','Ha'].data\n",
    "    Raw = Ha['DSCI','F105W'].data   #Original Image\n",
    "    \n",
    "    Img_Ha.append(Line - Continuum - Contam)  #Fixing the Errors on Halpha\n",
    "    Img_Orig.append(Raw)\n",
    "    \n",
    "for j in range(len(Img_Ha)):\n",
    "#Deciding the ID and Observation Space\n",
    "    #j = 0\n",
    "    Halph = Img_Ha[j][19:60,19:60]\n",
    "    Original = Img_Orig[j][19:60,19:60]            \n",
    "\n",
    "idx = 0\n",
    "\n",
    "for g in (Subjects):\n",
    "    locations= np.argwhere(seg_N == g).T\n",
    "    rows.extend(locations[0])\n",
    "    cols.extend(locations[1])\n",
    "\n",
    "    rowmin = min(rows)\n",
    "    rowmax = max(rows)\n",
    "    colmin = min(cols)\n",
    "    colmax = max(cols)\n",
    "    segsize = seg_N[rowmin : rowmax+1, colmin : colmax+1]\n",
    "    newseg = np.zeros_like(segsize)\n",
    "\n",
    "    for j in range(len(segsize)):\n",
    "        for k in range(len(segsize[j])):\n",
    "            newseg[j][k] = 1"
   ]
  },
  {
   "cell_type": "code",
   "execution_count": null,
   "metadata": {},
   "outputs": [],
   "source": []
  }
 ],
 "metadata": {
  "kernelspec": {
   "display_name": "Python 3",
   "language": "python",
   "name": "python3"
  },
  "language_info": {
   "codemirror_mode": {
    "name": "ipython",
    "version": 3
   },
   "file_extension": ".py",
   "mimetype": "text/x-python",
   "name": "python",
   "nbconvert_exporter": "python",
   "pygments_lexer": "ipython3",
   "version": "3.6.13"
  }
 },
 "nbformat": 4,
 "nbformat_minor": 2
}
