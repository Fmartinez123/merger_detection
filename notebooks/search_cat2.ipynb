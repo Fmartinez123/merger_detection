{
 "cells": [
  {
   "cell_type": "code",
   "execution_count": 1,
   "metadata": {
    "collapsed": true
   },
   "outputs": [],
   "source": [
    "# Search all sources in catalog II for those within \n",
    "# a threshold distance of each source in catalog I "
   ]
  },
  {
   "cell_type": "code",
   "execution_count": 7,
   "metadata": {
    "collapsed": true
   },
   "outputs": [],
   "source": [
    "import numpy as np\n",
    "from collections import defaultdict\n",
    "import astropy.units as u\n",
    "#import astropy.coordinates as cor\n",
    "from astropy.coordinates import SkyCoord\n",
    "import math\n",
    "import sys"
   ]
  },
  {
   "cell_type": "code",
   "execution_count": 82,
   "metadata": {
    "collapsed": true
   },
   "outputs": [],
   "source": [
    "def search_cat2(ras1, des1, ras2, des2, rad):\n",
    "    '''\n",
    "    Inputs: \n",
    "        ras1, des1, ras2, des2: coordiantes in two catalogs, should be array-like unit: deg\n",
    "        rad: matching radius, unit: arcsec\n",
    "\n",
    "    Outputs:\n",
    "        idx1_s, unique indexes of matched sourcese in catalog I\n",
    "        idx2_ss, indexes of matched sources in catalog II\n",
    "             as [[id2_1, id2_2, ..], [id2_1, id2_5, ...], ...]\n",
    "        dss, distances of the pairs, unit: arcsec \n",
    "    '''\n",
    "    # Format unification\n",
    "    ras1 = np.array(ras1)\n",
    "    des1 = np.array(des1)\n",
    "    ras2 = np.array(ras2)\n",
    "    des2 = np.array(des2)\n",
    "\n",
    "    # Check if all RA, DEC are float\n",
    "    if ( np.where(np.isfinite(ras1))[0].size != ras1.size ) | \\\n",
    "       ( np.where(np.isfinite(des1))[0].size != des1.size ) | \\\n",
    "       ( np.where(np.isfinite(ras2))[0].size != ras2.size ) | \\\n",
    "       ( np.where(np.isfinite(des2))[0].size != des2.size ) : \\\n",
    "        sys.exit('Error: non-float in ra,dec')\n",
    "\n",
    "    if ras1.shape != des1.shape:\n",
    "        raise ValueError('ra1 and dec1 do not match!')\n",
    "    if ras2.shape != des2.shape:\n",
    "        raise ValueError('ra2 and dec2 do not match!')\n",
    "        \n",
    "    # Set the astropy coordinate system\n",
    "    cor1 = SkyCoord(ra=ras1*u.deg, dec=des1*u.deg, frame='icrs')\n",
    "    cor2 = SkyCoord(ra=ras2*u.deg, dec=des2*u.deg, frame='icrs')\n",
    "    # Search cor2\n",
    "    idx1_s, idx2_s, ds, buf = cor2.search_around_sky(cor1, rad*u.arcsec)\n",
    "    # Convert to units of arcsec\n",
    "    ds = ds.value*3600\n",
    "    # Split the arrys into subarrays\n",
    "    # So that each subarry corresponds to a source in cat1\n",
    "    split_idxs = np.where(idx1_s[1:]>idx1_s[:-1])[0]+1\n",
    "    idx1_ss = np.split(idx1_s, split_idxs)\n",
    "    idx2_ss = np.split(idx2_s, split_idxs)\n",
    "    dss = np.split(ds, split_idxs)\n",
    "    # Extract unique idx for idx1\n",
    "    idx1_s = [buf[0] for buf in idx1_ss]\n",
    "    \n",
    "    return idx1_s, idx2_ss, dss"
   ]
  }
 ],
 "metadata": {
  "kernelspec": {
   "display_name": "Python 3",
   "language": "python",
   "name": "python3"
  },
  "language_info": {
   "codemirror_mode": {
    "name": "ipython",
    "version": 3
   },
   "file_extension": ".py",
   "mimetype": "text/x-python",
   "name": "python",
   "nbconvert_exporter": "python",
   "pygments_lexer": "ipython3",
   "version": "3.7.3"
  }
 },
 "nbformat": 4,
 "nbformat_minor": 2
}
