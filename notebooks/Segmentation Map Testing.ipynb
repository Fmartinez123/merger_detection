{
 "cells": [
  {
   "cell_type": "code",
   "execution_count": 82,
   "metadata": {},
   "outputs": [],
   "source": [
    "import numpy as np\n",
    "import matplotlib.pyplot as plt\n",
    "from astropy.table import Table\n",
    "import pandas as pd\n",
    "\n",
    "import os\n",
    "os.chdir('/Users/felixmartinez/Research/scripts/')\n",
    "import functions as func"
   ]
  },
  {
   "cell_type": "markdown",
   "metadata": {},
   "source": [
    "# Segmentation Mapping\n",
    "To plot images of galaxy mergers, we must first know where one galaxy ends and another begins. This is done through the use of segmentations maps. These maps are matrices that define every pixel as a galactic ID (or not for where there is no object)."
   ]
  },
  {
   "cell_type": "code",
   "execution_count": 83,
   "metadata": {},
   "outputs": [],
   "source": [
    "merger_cat = pd.read_pickle(r'/Users/felixmartinez/Research/merger_detection/tables/merger_cat.plk')\n",
    "\n",
    "#Opening the segmentation Maps\n",
    "seg_N = fits.open('/Users/felixmartinez/Research/CANDLES/goods_data/goodsn_3dhst.v4.0.F160W_seg.fits')[0].data\n",
    "seg_S = fits.open('/Users/felixmartinez/Research/CANDLES/goods_data/goodss_3dhst.v4.0.F160W_seg.fits')[0].data\n",
    "img_N = fits.open('/Users/felixmartinez/Research/CANDLES/goods_data/goodsn_3dhst_v4.0_f160w/goodsn_3dhst.v4.0.F160W_orig_sci.fits')[0].data\n",
    "img_S = fits.open('/Users/felixmartinez/Research/CANDLES/goods_data/goodss_3dhst_v4.0_f160w/goodss_3dhst.v4.0.F160W_orig_sci.fits')[0].data"
   ]
  },
  {
   "cell_type": "markdown",
   "metadata": {},
   "source": [
    "Now we want to make an image that only has the galaxy and its identified mergers cropped within it."
   ]
  },
  {
   "cell_type": "code",
   "execution_count": 84,
   "metadata": {},
   "outputs": [
    {
     "data": {
      "text/plain": [
       "<matplotlib.image.AxesImage at 0x7fbc2fe35f60>"
      ]
     },
     "execution_count": 84,
     "metadata": {},
     "output_type": "execute_result"
    },
    {
     "data": {
      "image/png": "[encoded data removed]",
      "text/plain": [
       "<Figure size 576x360 with 2 Axes>"
      ]
     },
     "metadata": {},
     "output_type": "display_data"
    }
   ],
   "source": [
    "rows = []\n",
    "cols = []\n",
    "gal_ids = []\n",
    "idx = 20      #The ID we are selecting from the Merging Table.\n",
    "\n",
    "for i in range(len(merger_cat['GN1']['ids'])):\n",
    "    temp = []\n",
    "    #Mergers = ast.literal_eval(GN1_Merging_Table.mergers.values[i])\n",
    "    temp = np.concatenate((merger_cat.GN1.ids[i],merger_cat.GN1.mergers[i]),axis=None).tolist()\n",
    "    gal_ids.append(temp)\n",
    "\n",
    "#for j in range(len(gal_ids)):\n",
    "#    idx = j               \n",
    "               \n",
    "for g in (gal_ids[idx]):\n",
    "    locations= np.argwhere(seg_N == g).T\n",
    "    rows.extend(locations[0])\n",
    "    cols.extend(locations[1])\n",
    "\n",
    "rowmin = min(rows)\n",
    "rowmax = max(rows)\n",
    "colmin = min(cols)\n",
    "colmax = max(cols)\n",
    "segsize = seg_N[rowmin : rowmax+1, colmin : colmax+1]\n",
    "newseg = np.zeros_like(segsize)\n",
    "\n",
    "for i in range(len(gal_ids[idx])):\n",
    "    for j in range(len(segsize)):\n",
    "        for k in range(len(segsize[j])):\n",
    "            if segsize[j][k] == gal_ids[idx][i]:\n",
    "                newseg[j][k] = i + 1\n",
    "                \n",
    "m=np.percentile(img_N[rowmin : rowmax +1, colmin : colmax+1],1.5)\n",
    "M=np.percentile(img_N[rowmin : rowmax +1, colmin : colmax+1],98.5)\n",
    "if M < np.abs(m)*6:\n",
    "    M = np.abs(m)*6\n",
    "\n",
    "gal_img = func.scaling_factor(img_N[rowmin : rowmax +1, colmin : colmax+1], m, M)\n",
    "\n",
    "#plotting the image                \n",
    "plt.figure(figsize = [8,5])\n",
    "plt.subplot(121)\n",
    "plt.title(\"Segmentation Map\")\n",
    "plt.xticks([])\n",
    "plt.yticks([])\n",
    "plt.imshow(newseg,cmap = 'viridis')\n",
    "    \n",
    "plt.subplot(122)\n",
    "plt.title(\"Image\")\n",
    "plt.xticks([])\n",
    "plt.yticks([])\n",
    "plt.imshow(gal_img,vmin = 0, vmax = 1 ,cmap = 'viridis')"
   ]
  },
  {
   "cell_type": "code",
   "execution_count": null,
   "metadata": {},
   "outputs": [],
   "source": []
  }
 ],
 "metadata": {
  "kernelspec": {
   "display_name": "Python 3",
   "language": "python",
   "name": "python3"
  },
  "language_info": {
   "codemirror_mode": {
    "name": "ipython",
    "version": 3
   },
   "file_extension": ".py",
   "mimetype": "text/x-python",
   "name": "python",
   "nbconvert_exporter": "python",
   "pygments_lexer": "ipython3",
   "version": "3.6.13"
  }
 },
 "nbformat": 4,
 "nbformat_minor": 2
}
