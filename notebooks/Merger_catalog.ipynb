{
 "cells": [
  {
   "cell_type": "code",
   "execution_count": 10,
   "metadata": {},
   "outputs": [],
   "source": [
    "import numpy as np\n",
    "import matplotlib.pyplot as plt\n",
    "from astropy.table import Table\n",
    "import pandas as pd\n",
    "import astropy.units as u\n",
    "from astropy.io import fits\n",
    "from astropy.cosmology import Planck15 as cosmo"
   ]
  },
  {
   "cell_type": "code",
   "execution_count": 15,
   "metadata": {},
   "outputs": [],
   "source": [
    "corrected_path = '../Rand_Ha/'\n",
    "table_path = '../tables/'\n",
    "cat_path = '../CANDLES_data/goods_catalogs/'\n",
    "total_path = '../total_gal/'\n",
    "cutout_path = '../CANDLES_data/total_cutouts/'\n",
    "save_cutout_path = '../CANDLES_data/merger_cutouts/'\n",
    "seg_path = '../CANDLES_data/goodsn_3dhst_v4.0_f160w/'\n",
    "Ha_path = '../merger_candidates/'\n",
    "image_path = '../images/'"
   ]
  },
  {
   "cell_type": "markdown",
   "metadata": {},
   "source": [
    "# Making Tabels\n",
    "After going through the GOODS Fields objects and selecting possible merger cadidates by eye, we then must append their ID number, ra, dec, and z values, and what ID they are merging with to ensure they are actually within a range close enough to consider them merging."
   ]
  },
  {
   "cell_type": "code",
   "execution_count": 7,
   "metadata": {},
   "outputs": [],
   "source": [
    "Sections = ['GN1', 'GN2', 'GN3', 'GN4', 'GN5', 'GN7', 'GS1', 'GS2', 'GS3', 'GS4', 'GS5', 'ERSPRIME']                 \n",
    "\n",
    "Merger_dict = {'GN1':[], 'GN2':[], 'GN3':[], 'GN4':[], 'GN5':[], 'GN7':[], \n",
    "              'GS1':[], 'GS2':[], 'GS3':[], 'GS4':[], 'GS5':[], 'ERSPRIME':[],\n",
    "              'GN1_ra':[], 'GN2_ra':[], 'GN3_ra':[], 'GN4_ra':[], 'GN5_ra':[], 'GN7_ra':[],\n",
    "              'GS1_ra':[], 'GS2_ra':[], 'GS3_ra':[], 'GS4_ra':[], 'GS5_ra':[], 'ERSPRIME_ra':[],\n",
    "              'GN1_dec':[], 'GN2_dec':[], 'GN3_dec':[], 'GN4_dec':[], 'GN5_dec':[], 'GN7_dec':[],\n",
    "              'GS1_dec':[], 'GS2_dec':[], 'GS3_dec':[], 'GS4_dec':[], 'GS5_dec':[], 'ERSPRIME_dec':[],\n",
    "              'GN1_z':[], 'GN2_z':[], 'GN3_z':[], 'GN4_z':[], 'GN5_z':[], 'GN7_z':[],\n",
    "              'GS1_z':[], 'GS2_z':[], 'GS3_z':[], 'GS4_z':[], 'GS5_z':[], 'ERSPRIME_z':[],\n",
    "              'GN1_merge':[], 'GN2_merge':[], 'GN3_merge':[], 'GN4_merge':[], 'GN5_merge':[], 'GN7_merge':[], \n",
    "              'GS1_merge':[], 'GS2_merge':[], 'GS3_merge':[], 'GS4_merge':[], 'GS5_merge':[], 'ERSPRIME_merge':[]}\n",
    "\n",
    "for i in Sections:\n",
    "    Test_Subjects = np.loadtxt(total_path+'{}_total.txt'.format(i)).astype(int)\n",
    "    \n",
    "    if i[1] == 'N':\n",
    "        cat = Table.read(fits.open(cat_path+'goodsn_3dhst.v4.4.zout.fits'), format = 'fits').to_pandas()\n",
    "    else:\n",
    "        cat = Table.read(fits.open(cat_path+'goodss_3dhst.v4.4.zout.fits'), format = 'fits').to_pandas()\n",
    "\n",
    "    for ii in Test_Subjects:\n",
    "        Merger_dict[i].append(ii)\n",
    "        Merger_dict['{}_ra'.format(i)].append(cat.query('id == {}'.format(ii)).ra.values[0])\n",
    "        Merger_dict['{}_dec'.format(i)].append(cat.query('id == {}'.format(ii)).dec.values[0])\n",
    "        Merger_dict['{}_z'.format(i)].append(cat.query('id == {}'.format(ii)).z500.values[0])"
   ]
  },
  {
   "cell_type": "markdown",
   "metadata": {},
   "source": [
    "Now we must test if these objects are actually merging. We do this by finding the difference in ra, dec, and z between the main object and the object(s) that we believe it could be merging with. We defined these values to be: <br>\n",
    "44.3 kiloparsecs for ra and dec. <br>\n",
    "0.06 for redshift (our z value)."
   ]
  },
  {
   "cell_type": "code",
   "execution_count": 11,
   "metadata": {},
   "outputs": [
    {
     "name": "stderr",
     "output_type": "stream",
     "text": [
      "/Users/felix/anaconda3/envs/grizli/lib/python3.6/site-packages/astropy/units/quantity.py:477: RuntimeWarning: divide by zero encountered in true_divide\n",
      "  result = super().__array_ufunc__(function, method, *arrays, **kwargs)\n"
     ]
    }
   ],
   "source": [
    "Sections = ['GN1', 'GN2', 'GN3', 'GN4', 'GN5', 'GN7', 'GS1', 'GS2', 'GS3', 'GS4', 'GS5', 'ERSPRIME']                \n",
    "\n",
    "for i in Sections:   \n",
    "    if i[1] == 'N':\n",
    "        cat = Table.read(fits.open(cat_path+'goodsn_3dhst.v4.4.zout.fits'), format = 'fits').to_pandas()\n",
    "    else:\n",
    "        cat = Table.read(fits.open(cat_path+'goodss_3dhst.v4.4.zout.fits'), format = 'fits').to_pandas()\n",
    "    \n",
    "    for ii in range(len(Merger_dict['{}_ra'.format(i)])):\n",
    "        ra = Merger_dict['{}_ra'.format(i)][ii]\n",
    "        dec = Merger_dict['{}_dec'.format(i)][ii]\n",
    "        z = Merger_dict['{}_z'.format(i)][ii]\n",
    "\n",
    "\n",
    "        diff_ra = np.abs(ra - cat['ra'].values)\n",
    "        diff_dec = np.abs(dec - cat['dec'].values)\n",
    "        diff_z = np.abs(z - cat['z500'].values) / (1 + cat['z500'].values)\n",
    "\n",
    "        diff_ra_kpc = (1/cosmo.arcsec_per_kpc_proper(z)) * diff_ra*u.deg * 60**2*u.arcsec / u.deg\n",
    "        diff_dec_kpc = (1/cosmo.arcsec_per_kpc_proper(z)) * diff_dec*u.deg * 60**2*u.arcsec / u.deg\n",
    "        \n",
    "        z_pass = cat['id'].values[diff_z < 0.06]\n",
    "        ra_pass = cat['id'].values[diff_ra_kpc.value < 44.3]\n",
    "        dec_pass = cat['id'].values[diff_dec_kpc.value < 44.3]\n",
    "\n",
    "        mergers = []\n",
    "        \n",
    "        for RA in ra_pass:\n",
    "            if RA in dec_pass and RA in z_pass and RA != Merger_dict[i][ii]:\n",
    "                mergers.append(RA)\n",
    "        Merger_dict['{}_merge'.format(i)].append(mergers)"
   ]
  },
  {
   "cell_type": "markdown",
   "metadata": {},
   "source": [
    "Now any objects that pass the test are appended into a Pandas Dictionary and then downloaded to prevent the code from running again."
   ]
  },
  {
   "cell_type": "code",
   "execution_count": 12,
   "metadata": {},
   "outputs": [],
   "source": [
    "#MAKING A PANDAS DICTIONARY\n",
    "#GN1\n",
    "GN1_data =  {'ids': pd.Series(Merger_dict['GN1']), 'ra': pd.Series(Merger_dict['GN1_ra']), \n",
    "              'dec': pd.Series(Merger_dict['GN1_dec']),'z': pd.Series(Merger_dict['GN1_z']), \n",
    "              'mergers': pd.Series(Merger_dict['GN1_merge'])}\n",
    "GN1_table = pd.DataFrame(GN1_data)\n",
    "#GN2\n",
    "GN2_data =  {'ids': pd.Series(Merger_dict['GN2']), 'ra': pd.Series(Merger_dict['GN2_ra']), \n",
    "              'dec': pd.Series(Merger_dict['GN2_dec']),'z': pd.Series(Merger_dict['GN2_z']), \n",
    "              'mergers': pd.Series(Merger_dict['GN2_merge'])}\n",
    "GN2_table = pd.DataFrame(GN2_data)\n",
    "#GN3\n",
    "GN3_data =  {'ids': pd.Series(Merger_dict['GN3']), 'ra': pd.Series(Merger_dict['GN3_ra']), \n",
    "              'dec': pd.Series(Merger_dict['GN3_dec']),'z': pd.Series(Merger_dict['GN3_z']), \n",
    "              'mergers': pd.Series(Merger_dict['GN3_merge'])}\n",
    "GN3_table = pd.DataFrame(GN3_data)\n",
    "#GN4\n",
    "GN4_data =  {'ids': pd.Series(Merger_dict['GN4']), 'ra': pd.Series(Merger_dict['GN4_ra']), \n",
    "              'dec': pd.Series(Merger_dict['GN4_dec']),'z': pd.Series(Merger_dict['GN4_z']), \n",
    "              'mergers': pd.Series(Merger_dict['GN4_merge'])}\n",
    "GN4_table = pd.DataFrame(GN4_data)\n",
    "#GN5\n",
    "GN5_data =  {'ids': pd.Series(Merger_dict['GN5']), 'ra': pd.Series(Merger_dict['GN5_ra']), \n",
    "              'dec': pd.Series(Merger_dict['GN5_dec']),'z': pd.Series(Merger_dict['GN5_z']), \n",
    "              'mergers': pd.Series(Merger_dict['GN5_merge'])}\n",
    "GN5_table = pd.DataFrame(GN5_data)\n",
    "#GN7\n",
    "GN7_data =  {'ids': pd.Series(Merger_dict['GN7']), 'ra': pd.Series(Merger_dict['GN7_ra']), \n",
    "              'dec': pd.Series(Merger_dict['GN7_dec']),'z': pd.Series(Merger_dict['GN7_z']), \n",
    "              'mergers': pd.Series(Merger_dict['GN7_merge'])}\n",
    "GN7_table = pd.DataFrame(GN7_data)\n",
    "#GS1\n",
    "GS1_data =  {'ids': pd.Series(Merger_dict['GS1']), 'ra': pd.Series(Merger_dict['GS1_ra']), \n",
    "              'dec': pd.Series(Merger_dict['GS1_dec']),'z': pd.Series(Merger_dict['GS1_z']), \n",
    "              'mergers': pd.Series(Merger_dict['GS1_merge'])}\n",
    "GS1_table = pd.DataFrame(GS1_data)\n",
    "#GS2\n",
    "GS2_data =  {'ids': pd.Series(Merger_dict['GS2']), 'ra': pd.Series(Merger_dict['GS2_ra']), \n",
    "              'dec': pd.Series(Merger_dict['GS2_dec']),'z': pd.Series(Merger_dict['GS2_z']), \n",
    "              'mergers': pd.Series(Merger_dict['GS2_merge'])}\n",
    "GS2_table = pd.DataFrame(GS2_data)\n",
    "#GS3\n",
    "GS3_data =  {'ids': pd.Series(Merger_dict['GS3']), 'ra': pd.Series(Merger_dict['GS3_ra']), \n",
    "              'dec': pd.Series(Merger_dict['GS3_dec']),'z': pd.Series(Merger_dict['GS3_z']), \n",
    "              'mergers': pd.Series(Merger_dict['GS3_merge'])}\n",
    "GS3_table = pd.DataFrame(GS3_data)\n",
    "#GS4\n",
    "GS4_data =  {'ids': pd.Series(Merger_dict['GS4']), 'ra': pd.Series(Merger_dict['GS4_ra']), \n",
    "              'dec': pd.Series(Merger_dict['GS4_dec']),'z': pd.Series(Merger_dict['GS4_z']), \n",
    "              'mergers': pd.Series(Merger_dict['GS4_merge'])}\n",
    "GS4_table = pd.DataFrame(GS4_data)\n",
    "#GS5\n",
    "GS5_data =  {'ids': pd.Series(Merger_dict['GS5']), 'ra': pd.Series(Merger_dict['GS5_ra']), \n",
    "              'dec': pd.Series(Merger_dict['GS5_dec']),'z': pd.Series(Merger_dict['GS5_z']), \n",
    "              'mergers': pd.Series(Merger_dict['GS5_merge'])}\n",
    "GS5_table = pd.DataFrame(GS5_data)\n",
    "#ERSPRIME\n",
    "ERSPRIME_data =  {'ids': pd.Series(Merger_dict['ERSPRIME']), 'ra': pd.Series(Merger_dict['ERSPRIME_ra']), \n",
    "              'dec': pd.Series(Merger_dict['ERSPRIME_dec']),'z': pd.Series(Merger_dict['ERSPRIME_z']), \n",
    "              'mergers': pd.Series(Merger_dict['ERSPRIME_merge'])}\n",
    "ERSPRIME_table = pd.DataFrame(ERSPRIME_data)\n",
    "\n",
    "#Uncomment these steps to download the data:\n",
    "#GN1_table.to_csv(r'/Users/felixmartinez/Research/Merging_Tables/GN1_data.csv')\n",
    "#GN2_table.to_csv(r'/Users/felixmartinez/Research/Merging_Tables/GN2_data.csv')\n",
    "#GN3_table.to_csv(r'/Users/felixmartinez/Research/Merging_Tables/GN3_data.csv')\n",
    "#GN4_table.to_csv(r'/Users/felixmartinez/Research/Merging_Tables/GN4_data.csv')\n",
    "#GN5_table.to_csv(r'/Users/felixmartinez/Research/Merging_Tables/GN5_data.csv')\n",
    "#GN7_table.to_csv(r'/Users/felixmartinez/Research/Merging_Tables/GN7_data.csv')\n",
    "#GS1_table.to_csv(r'/Users/felixmartinez/Research/Merging_Tables/GS1_data.csv')\n",
    "#GS2_table.to_csv(r'/Users/felixmartinez/Research/Merging_Tables/GS2_data.csv')\n",
    "#GS3_table.to_csv(r'/Users/felixmartinez/Research/Merging_Tables/GS3_data.csv')\n",
    "#GS4_table.to_csv(r'/Users/felixmartinez/Research/Merging_Tables/GS4_data.csv')\n",
    "#GS5_table.to_csv(r'/Users/felixmartinez/Research/Merging_Tables/GS5_data.csv')\n",
    "#ERSPRIME_table.to_csv(r'/Users/felixmartinez/Research/Merging_Tables/ERSPRIME_data.csv')"
   ]
  },
  {
   "cell_type": "markdown",
   "metadata": {},
   "source": [
    "# Filtering Non Mergers & Making the Lists\n",
    "Now we must check the data. We do this by opening up all the dictionaries we created and removing any z values that were recorded as zero, as this flags every object as a merger. Once we filter out all z = 0 values, we create a new dataframe."
   ]
  },
  {
   "cell_type": "code",
   "execution_count": 13,
   "metadata": {},
   "outputs": [
    {
     "name": "stdout",
     "output_type": "stream",
     "text": [
      "Field: GN1 completed.\n",
      "Field: GN2 completed.\n",
      "Field: GN3 completed.\n",
      "Field: GN4 completed.\n",
      "Field: GN5 completed.\n",
      "Field: GN7 completed.\n",
      "Field: GS1 completed.\n",
      "Field: GS2 completed.\n",
      "Field: GS3 completed.\n",
      "Field: GS4 completed.\n",
      "Field: GS5 completed.\n",
      "Field: ERSPRIME completed.\n",
      "Merger Catalog saved successfully as pickle.\n"
     ]
    }
   ],
   "source": [
    "#First we have to make arrays for the galaxy mergers, ids, ra, dec, and z values for each field.\n",
    "merger_cat = {'GN1':[], 'GN2':[], 'GN3':[], 'GN4':[], 'GN5':[], 'GN7':[], \n",
    "           'GS1':[], 'GS2':[], 'GS3':[], 'GS4':[], 'GS5':[], 'ERSPRIME':[]}\n",
    "mergers = {'GN1':[], 'GN2':[], 'GN3':[], 'GN4':[], 'GN5':[], 'GN7':[], \n",
    "           'GS1':[], 'GS2':[], 'GS3':[], 'GS4':[], 'GS5':[], 'ERSPRIME':[]}\n",
    "ids = {'GN1':[], 'GN2':[], 'GN3':[], 'GN4':[], 'GN5':[], 'GN7':[], \n",
    "       'GS1':[], 'GS2':[], 'GS3':[], 'GS4':[], 'GS5':[], 'ERSPRIME':[]}\n",
    "ra = {'GN1':[], 'GN2':[], 'GN3':[], 'GN4':[], 'GN5':[], 'GN7':[], \n",
    "      'GS1':[], 'GS2':[], 'GS3':[], 'GS4':[], 'GS5':[], 'ERSPRIME':[]}\n",
    "dec = {'GN1':[], 'GN2':[], 'GN3':[], 'GN4':[], 'GN5':[], 'GN7':[], \n",
    "       'GS1':[], 'GS2':[], 'GS3':[], 'GS4':[], 'GS5':[], 'ERSPRIME':[]}\n",
    "z = {'GN1':[], 'GN2':[], 'GN3':[], 'GN4':[], 'GN5':[], 'GN7':[], \n",
    "     'GS1':[], 'GS2':[], 'GS3':[], 'GS4':[], 'GS5':[], 'ERSPRIME':[]}\n",
    "\n",
    "tables = [GN1_table, GN2_table, GN3_table, GN4_table, GN5_table, GN7_table, \n",
    "          GS1_table, GS2_table, GS3_table, GS4_table, GS5_table, ERSPRIME_table]\n",
    "fields = ['GN1', 'GN2', 'GN3', 'GN4', 'GN5', 'GN7', \n",
    "          'GS1', 'GS2', 'GS3', 'GS4', 'GS5', 'ERSPRIME']\n",
    "\n",
    "for t in range(len(tables)):\n",
    "    Merging_Data = []\n",
    "    field = fields[t]\n",
    "    table = tables[t]\n",
    "    for i in range(len(table)):\n",
    "        if (table.z[i] == 0) or (len(table.at[i,'mergers']) == 0) or (table.z[i] < 1) or (table.z[i] > 2.2):\n",
    "            pass;\n",
    "        else:\n",
    "            mergers[field].append(table.mergers.values[i])\n",
    "            ids[field].append(table.ids.values[i])\n",
    "            ra[field].append(table.ra.values[i])\n",
    "            dec[field].append(table.dec.values[i])\n",
    "            z[field].append(table.z.values[i])\n",
    "    print('Field: '+ field + ' completed.')\n",
    "        \n",
    "        \n",
    "    Merging_Data = {'ids': pd.Series(ids),'ra': pd.Series(ra),'dec': pd.Series(dec),\n",
    "                    'z': pd.Series(z), 'mergers': pd.Series(mergers)}\n",
    "    merger_cat = pd.DataFrame(Merging_Data).T\n",
    "#merger_cat.to_pickle(table_path+'merger_cat.plk')\n",
    "print('Merger Catalog saved successfully as pickle.')"
   ]
  },
  {
   "cell_type": "code",
   "execution_count": 14,
   "metadata": {},
   "outputs": [
    {
     "data": {
      "text/plain": [
       "ids        [37786, 37787, 36203, 37053, 37395, 38099, 373...\n",
       "ra         [189.281986, 189.325931, 189.312368, 189.28273...\n",
       "dec        [62.363756, 62.363382, 62.335707, 62.346241, 6...\n",
       "z          [1.4972765422373637, 1.3583397425048862, 1.748...\n",
       "mergers    [[37738, 37836], [37788], [36162], [37095, 371...\n",
       "Name: GN1, dtype: object"
      ]
     },
     "execution_count": 14,
     "metadata": {},
     "output_type": "execute_result"
    }
   ],
   "source": [
    "merger_cat['GN1']"
   ]
  }
 ],
 "metadata": {
  "kernelspec": {
   "display_name": "Python 3",
   "language": "python",
   "name": "python3"
  },
  "language_info": {
   "codemirror_mode": {
    "name": "ipython",
    "version": 3
   },
   "file_extension": ".py",
   "mimetype": "text/x-python",
   "name": "python",
   "nbconvert_exporter": "python",
   "pygments_lexer": "ipython3",
   "version": "3.6.13"
  }
 },
 "nbformat": 4,
 "nbformat_minor": 2
}
